{
 "cells": [
  {
   "cell_type": "markdown",
   "metadata": {},
   "source": [
    "# Tweet Overview"
   ]
  },
  {
   "cell_type": "code",
   "execution_count": 1,
   "metadata": {
    "tags": []
   },
   "outputs": [],
   "source": [
    "from tweet_class import Tweet"
   ]
  },
  {
   "cell_type": "code",
   "execution_count": 2,
   "metadata": {},
   "outputs": [
    {
     "data": {
      "text/html": [
       "<blockquote class=\"twitter-tweet\"><p lang=\"en\" dir=\"ltr\">Tomography visualized! (Link to full video below) <a href=\"https://t.co/nHwHsXuLIB\">pic.twitter.com/nHwHsXuLIB</a></p>&mdash; Jan-Hendrik Müller (@kolibril13) <a href=\"https://twitter.com/kolibril13/status/1430249252199018496?ref_src=twsrc%5Etfw\">August 24, 2021</a></blockquote>\n",
       "<script async src=\"https://platform.twitter.com/widgets.js\" charset=\"utf-8\"></script>\n"
      ],
      "text/plain": [
       "<tweet_class.Tweet at 0x103b84a50>"
      ]
     },
     "execution_count": 2,
     "metadata": {},
     "output_type": "execute_result"
    }
   ],
   "source": [
    "Tweet(\"https://twitter.com/kolibril13/status/1430249252199018496\")"
   ]
  },
  {
   "cell_type": "code",
   "execution_count": 3,
   "metadata": {},
   "outputs": [
    {
     "data": {
      "text/html": [
       "<blockquote class=\"twitter-tweet\"><p lang=\"en\" dir=\"ltr\">Jupyter-Splitview 0.1.0 is released! 🎉 <br>A before/after image slider for JupyterLab.<br>- Install with: pip install jupyter-splitview<br>- Try online in JupyterLite: <a href=\"https://t.co/WolbODk4X8\">https://t.co/WolbODk4X8</a> <a href=\"https://t.co/mI5mpWheBD\">pic.twitter.com/mI5mpWheBD</a></p>&mdash; Jan-Hendrik Müller (@kolibril13) <a href=\"https://twitter.com/kolibril13/status/1539992809268281345?ref_src=twsrc%5Etfw\">June 23, 2022</a></blockquote>\n",
       "<script async src=\"https://platform.twitter.com/widgets.js\" charset=\"utf-8\"></script>\n"
      ],
      "text/plain": [
       "<tweet_class.Tweet at 0x103bc2090>"
      ]
     },
     "execution_count": 3,
     "metadata": {},
     "output_type": "execute_result"
    }
   ],
   "source": [
    "Tweet(\"https://twitter.com/kolibril13/status/1539992809268281345\")"
   ]
  },
  {
   "cell_type": "code",
   "execution_count": 4,
   "metadata": {},
   "outputs": [
    {
     "data": {
      "text/html": [
       "<blockquote class=\"twitter-tweet\"><p lang=\"en\" dir=\"ltr\">Animating <a href=\"https://twitter.com/matplotlib?ref_src=twsrc%5Etfw\">@matplotlib</a> plots with <a href=\"https://twitter.com/manim_community?ref_src=twsrc%5Etfw\">@manim_community</a> is fun!  Parameters can be controlled with valuetrackers, and it&#39;s easy to choose rate functions, frame rates &amp; fade-in effects. Example scripts here: <a href=\"https://t.co/GKUXBTA0NZ\">https://t.co/GKUXBTA0NZ</a> <br>Ideas for use cases? Let me know in the comments 💭 <a href=\"https://t.co/ju6HgABZkl\">pic.twitter.com/ju6HgABZkl</a></p>&mdash; Jan-Hendrik Müller (@kolibril13) <a href=\"https://twitter.com/kolibril13/status/1611360596183719936?ref_src=twsrc%5Etfw\">January 6, 2023</a></blockquote>\n",
       "<script async src=\"https://platform.twitter.com/widgets.js\" charset=\"utf-8\"></script>\n"
      ],
      "text/plain": [
       "<tweet_class.Tweet at 0x103bc3950>"
      ]
     },
     "execution_count": 4,
     "metadata": {},
     "output_type": "execute_result"
    }
   ],
   "source": [
    "Tweet(\"https://twitter.com/kolibril13/status/1611360596183719936\")"
   ]
  },
  {
   "cell_type": "code",
   "execution_count": 5,
   "metadata": {},
   "outputs": [
    {
     "data": {
      "text/html": [
       "<blockquote class=\"twitter-tweet\"><p lang=\"en\" dir=\"ltr\">Something I would like to use when teaching with <a href=\"https://twitter.com/ProjectJupyter?ref_src=twsrc%5Etfw\">@ProjectJupyter</a>: step-by-step cell appearance, where correct answers unlock the next section. <a href=\"https://t.co/NweljI3Xon\">pic.twitter.com/NweljI3Xon</a></p>&mdash; Jan-Hendrik Müller (@kolibril13) <a href=\"https://twitter.com/kolibril13/status/1639262409175990272?ref_src=twsrc%5Etfw\">March 24, 2023</a></blockquote>\n",
       "<script async src=\"https://platform.twitter.com/widgets.js\" charset=\"utf-8\"></script>\n"
      ],
      "text/plain": [
       "<tweet_class.Tweet at 0x103bc09d0>"
      ]
     },
     "execution_count": 5,
     "metadata": {},
     "output_type": "execute_result"
    }
   ],
   "source": [
    "Tweet(\"https://twitter.com/kolibril13/status/1639262409175990272\")"
   ]
  },
  {
   "cell_type": "code",
   "execution_count": 6,
   "metadata": {},
   "outputs": [
    {
     "data": {
      "text/html": [
       "<blockquote class=\"twitter-tweet\"><p lang=\"en\" dir=\"ltr\">This <a href=\"https://twitter.com/matplotlib?ref_src=twsrc%5Etfw\">@matplotlib</a> cheat-sheet has now a search bar 🔍 <a href=\"https://t.co/EfTlzwcH2d\">https://t.co/EfTlzwcH2d</a><br>If you have any suggestions for layout and content, let me know by replying to this tweet. <a href=\"https://t.co/Nv6gU14tBJ\">pic.twitter.com/Nv6gU14tBJ</a></p>&mdash; Jan-Hendrik Müller (@kolibril13) <a href=\"https://twitter.com/kolibril13/status/1604384666307497987?ref_src=twsrc%5Etfw\">December 18, 2022</a></blockquote>\n",
       "<script async src=\"https://platform.twitter.com/widgets.js\" charset=\"utf-8\"></script>\n"
      ],
      "text/plain": [
       "<tweet_class.Tweet at 0x103bc3190>"
      ]
     },
     "execution_count": 6,
     "metadata": {},
     "output_type": "execute_result"
    }
   ],
   "source": [
    "Tweet(\"https://twitter.com/kolibril13/status/1604384666307497987\")"
   ]
  },
  {
   "cell_type": "code",
   "execution_count": 7,
   "metadata": {},
   "outputs": [
    {
     "data": {
      "text/html": [
       "<blockquote class=\"twitter-tweet\"><p lang=\"en\" dir=\"ltr\">If you use <a href=\"https://twitter.com/napari_imaging?ref_src=twsrc%5Etfw\">@napari_imaging</a>, you might like this new interactive example gallery: <a href=\"https://t.co/2wyDhOyvxJ\">https://t.co/2wyDhOyvxJ</a> <a href=\"https://t.co/e89PMAILo9\">pic.twitter.com/e89PMAILo9</a></p>&mdash; Jan-Hendrik Müller (@kolibril13) <a href=\"https://twitter.com/kolibril13/status/1585331913220235270?ref_src=twsrc%5Etfw\">October 26, 2022</a></blockquote>\n",
       "<script async src=\"https://platform.twitter.com/widgets.js\" charset=\"utf-8\"></script>\n"
      ],
      "text/plain": [
       "<tweet_class.Tweet at 0x103bc3090>"
      ]
     },
     "execution_count": 7,
     "metadata": {},
     "output_type": "execute_result"
    }
   ],
   "source": [
    "Tweet(\"https://twitter.com/kolibril13/status/1585331913220235270\")"
   ]
  },
  {
   "cell_type": "code",
   "execution_count": 8,
   "metadata": {},
   "outputs": [
    {
     "data": {
      "text/html": [
       "<blockquote class=\"twitter-tweet\"><p lang=\"en\" dir=\"ltr\">This is a reproducible video showing multiple chest-abdomen CTs. It was auto generated with a few lines of python code using <a href=\"https://twitter.com/napari_imaging?ref_src=twsrc%5Etfw\">@napari_imaging</a>  and <a href=\"https://twitter.com/manim_community?ref_src=twsrc%5Etfw\">@manim_community</a>. <br>Code here: <a href=\"https://t.co/Yx5IlDqyRt\">https://t.co/Yx5IlDqyRt</a> <a href=\"https://t.co/PRgmXvhfBx\">pic.twitter.com/PRgmXvhfBx</a></p>&mdash; Jan-Hendrik Müller (@kolibril13) <a href=\"https://twitter.com/kolibril13/status/1624023008728739846?ref_src=twsrc%5Etfw\">February 10, 2023</a></blockquote>\n",
       "<script async src=\"https://platform.twitter.com/widgets.js\" charset=\"utf-8\"></script>\n"
      ],
      "text/plain": [
       "<tweet_class.Tweet at 0x103bce5d0>"
      ]
     },
     "execution_count": 8,
     "metadata": {},
     "output_type": "execute_result"
    }
   ],
   "source": [
    "Tweet(\"https://twitter.com/kolibril13/status/1624023008728739846\")"
   ]
  },
  {
   "cell_type": "code",
   "execution_count": null,
   "metadata": {},
   "outputs": [],
   "source": []
  }
 ],
 "metadata": {
  "kernelspec": {
   "display_name": "Python 3 (ipykernel)",
   "language": "python",
   "name": "python3"
  },
  "language_info": {
   "codemirror_mode": {
    "name": "ipython",
    "version": 3
   },
   "file_extension": ".py",
   "mimetype": "text/x-python",
   "name": "python",
   "nbconvert_exporter": "python",
   "pygments_lexer": "ipython3",
   "version": "3.11.2"
  }
 },
 "nbformat": 4,
 "nbformat_minor": 4
}
